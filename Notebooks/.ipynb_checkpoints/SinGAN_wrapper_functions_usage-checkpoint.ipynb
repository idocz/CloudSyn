{
 "cells": [
  {
   "cell_type": "code",
   "execution_count": 1,
   "metadata": {},
   "outputs": [],
   "source": [
    "import sys\n",
    "import os\n",
    "working_dir = \"/home/idocz/repo/CloudSyn/\"\n",
    "sys.path.append(f\"{working_dir}MyCode/\")\n",
    "os.chdir(f\"{working_dir}SinGAN3D/\")\n",
    "\n",
    "#other imports\n",
    "import matplotlib.pyplot as plt\n",
    "from matplotlib import rcParams\n",
    "\n",
    "rcParams[\"figure.dpi\"] = 150\n",
    "\n",
    "# our imports\n",
    "from SinGAN_wrapper import *\n",
    "from utils import show_salGAN_samples"
   ]
  },
  {
   "cell_type": "code",
   "execution_count": 2,
   "metadata": {},
   "outputs": [
    {
     "name": "stdout",
     "output_type": "stream",
     "text": [
      "Random Seed:  114\n",
      "Trained model has been loaded (not really)\n"
     ]
    },
    {
     "ename": "UnboundLocalError",
     "evalue": "local variable 'dir2save' referenced before assignment",
     "output_type": "error",
     "traceback": [
      "\u001b[0;31m---------------------------------------------------------------------------\u001b[0m",
      "\u001b[0;31mUnboundLocalError\u001b[0m                         Traceback (most recent call last)",
      "\u001b[0;32m<ipython-input-2-d85b22d6c863>\u001b[0m in \u001b[0;36m<module>\u001b[0;34m\u001b[0m\n\u001b[1;32m      4\u001b[0m     \u001b[0msin_wrap\u001b[0m\u001b[0;34m.\u001b[0m\u001b[0mtrain\u001b[0m\u001b[0;34m(\u001b[0m\u001b[0;34m)\u001b[0m\u001b[0;34m\u001b[0m\u001b[0;34m\u001b[0m\u001b[0m\n\u001b[1;32m      5\u001b[0m \u001b[0;34m\u001b[0m\u001b[0m\n\u001b[0;32m----> 6\u001b[0;31m \u001b[0msin_wrap\u001b[0m\u001b[0;34m.\u001b[0m\u001b[0msample\u001b[0m\u001b[0;34m(\u001b[0m\u001b[0;36m20\u001b[0m\u001b[0;34m)\u001b[0m\u001b[0;34m\u001b[0m\u001b[0;34m\u001b[0m\u001b[0m\n\u001b[0m",
      "\u001b[0;32m~/repo/CloudSyn/MyCode/SinGAN_wrapper.py\u001b[0m in \u001b[0;36msample\u001b[0;34m(self, n_samples)\u001b[0m\n\u001b[1;32m     51\u001b[0m     \u001b[0;32mdef\u001b[0m \u001b[0msample\u001b[0m\u001b[0;34m(\u001b[0m\u001b[0mself\u001b[0m\u001b[0;34m,\u001b[0m\u001b[0mn_samples\u001b[0m\u001b[0;34m)\u001b[0m\u001b[0;34m:\u001b[0m\u001b[0;34m\u001b[0m\u001b[0;34m\u001b[0m\u001b[0m\n\u001b[1;32m     52\u001b[0m         \u001b[0;32massert\u001b[0m \u001b[0mself\u001b[0m\u001b[0;34m.\u001b[0m\u001b[0mis_loaded\u001b[0m\u001b[0;34m,\u001b[0m \u001b[0;34m\"Please run the train function or load a trained model\"\u001b[0m\u001b[0;34m\u001b[0m\u001b[0;34m\u001b[0m\u001b[0m\n\u001b[0;32m---> 53\u001b[0;31m         \u001b[0mself\u001b[0m\u001b[0;34m.\u001b[0m\u001b[0msample_dir\u001b[0m \u001b[0;34m=\u001b[0m \u001b[0mSinGAN_generate\u001b[0m\u001b[0;34m(\u001b[0m\u001b[0mself\u001b[0m\u001b[0;34m.\u001b[0m\u001b[0mGs\u001b[0m\u001b[0;34m,\u001b[0m \u001b[0mself\u001b[0m\u001b[0;34m.\u001b[0m\u001b[0mZs\u001b[0m\u001b[0;34m,\u001b[0m \u001b[0mself\u001b[0m\u001b[0;34m.\u001b[0m\u001b[0mreals\u001b[0m\u001b[0;34m,\u001b[0m \u001b[0mself\u001b[0m\u001b[0;34m.\u001b[0m\u001b[0mNoiseAmp\u001b[0m\u001b[0;34m,\u001b[0m \u001b[0mself\u001b[0m\u001b[0;34m.\u001b[0m\u001b[0mopt\u001b[0m\u001b[0;34m,\u001b[0m \u001b[0mnum_samples\u001b[0m\u001b[0;34m=\u001b[0m\u001b[0mn_samples\u001b[0m\u001b[0;34m)\u001b[0m\u001b[0;34m\u001b[0m\u001b[0;34m\u001b[0m\u001b[0m\n\u001b[0m\u001b[1;32m     54\u001b[0m \u001b[0;34m\u001b[0m\u001b[0m\n\u001b[1;32m     55\u001b[0m \u001b[0;34m\u001b[0m\u001b[0m\n",
      "\u001b[0;32m~/repo/CloudSyn/SinGAN3D/SinGAN/manipulate.py\u001b[0m in \u001b[0;36mSinGAN_generate\u001b[0;34m(Gs, Zs, reals, NoiseAmp, opt, in_s, scale_v, scale_h, n, gen_start_scale, num_samples)\u001b[0m\n\u001b[1;32m    154\u001b[0m             \u001b[0mimages_cur\u001b[0m\u001b[0;34m.\u001b[0m\u001b[0mappend\u001b[0m\u001b[0;34m(\u001b[0m\u001b[0mI_curr\u001b[0m\u001b[0;34m)\u001b[0m\u001b[0;34m\u001b[0m\u001b[0;34m\u001b[0m\u001b[0m\n\u001b[1;32m    155\u001b[0m         \u001b[0mn\u001b[0m\u001b[0;34m+=\u001b[0m\u001b[0;36m1\u001b[0m\u001b[0;34m\u001b[0m\u001b[0;34m\u001b[0m\u001b[0m\n\u001b[0;32m--> 156\u001b[0;31m     \u001b[0;32mreturn\u001b[0m \u001b[0mdir2save\u001b[0m\u001b[0;34m\u001b[0m\u001b[0;34m\u001b[0m\u001b[0m\n\u001b[0m\u001b[1;32m    157\u001b[0m \u001b[0;34m\u001b[0m\u001b[0m\n",
      "\u001b[0;31mUnboundLocalError\u001b[0m: local variable 'dir2save' referenced before assignment"
     ]
    }
   ],
   "source": [
    "train = False\n",
    "sin_wrap = salGAN_wrapper(\"balloons.png\", load_existing_model=(not train))\n",
    "if train:\n",
    "    sin_wrap.train()\n",
    "\n",
    "sin_wrap.sample(20)\n"
   ]
  },
  {
   "cell_type": "code",
   "execution_count": null,
   "metadata": {},
   "outputs": [],
   "source": [
    "show_salGAN_samples(sin_wrap.sample_dir,[1])"
   ]
  },
  {
   "cell_type": "code",
   "execution_count": 4,
   "metadata": {},
   "outputs": [
    {
     "data": {
      "text/plain": [
       "tensor([[[[-0.2370, -0.2476, -0.2486,  ..., -0.2889, -0.2945, -0.3351],\n",
       "          [-0.2176, -0.2640, -0.2563,  ..., -0.3090, -0.2985, -0.3249],\n",
       "          [-0.2243, -0.2474, -0.2352,  ..., -0.3039, -0.3026, -0.3017],\n",
       "          ...,\n",
       "          [-0.4680, -0.2775,  0.0887,  ...,  0.3132,  0.1668, -0.2786],\n",
       "          [-0.7205, -0.5147, -0.3823,  ..., -0.0616, -0.0917, -0.5006],\n",
       "          [-0.3762, -0.3799, -0.1295,  ...,  0.3055, -0.3257, -0.2463]],\n",
       "\n",
       "         [[ 0.0998,  0.0965,  0.0846,  ...,  0.1138,  0.1215,  0.1307],\n",
       "          [ 0.1112,  0.0886,  0.1034,  ...,  0.0931,  0.1059,  0.1295],\n",
       "          [ 0.1304,  0.0998,  0.1188,  ...,  0.0678,  0.0728,  0.1232],\n",
       "          ...,\n",
       "          [-0.4271, -0.4602, -0.1869,  ..., -0.0694, -0.0624, -0.1746],\n",
       "          [-0.6680, -0.7012, -0.5344,  ..., -0.2245, -0.2352, -0.3528],\n",
       "          [-0.4010, -0.4830, -0.1861,  ...,  0.1951, -0.4041, -0.1871]],\n",
       "\n",
       "         [[ 0.3405,  0.3272,  0.3082,  ...,  0.3547,  0.3361,  0.3855],\n",
       "          [ 0.3538,  0.3149,  0.3049,  ...,  0.3339,  0.3133,  0.3433],\n",
       "          [ 0.3554,  0.3076,  0.3080,  ...,  0.3167,  0.2907,  0.3176],\n",
       "          ...,\n",
       "          [-0.4616, -0.4576, -0.2157,  ..., -0.2202, -0.1851, -0.3221],\n",
       "          [-0.6976, -0.6232, -0.5612,  ..., -0.4343, -0.3418, -0.4267],\n",
       "          [-0.4664, -0.5240, -0.3920,  ..., -0.0956, -0.5307, -0.2324]]]],\n",
       "       device='cuda:0')"
      ]
     },
     "execution_count": 4,
     "metadata": {},
     "output_type": "execute_result"
    }
   ],
   "source": [
    "sin_wrap.sample_dir"
   ]
  }
 ],
 "metadata": {
  "kernelspec": {
   "display_name": "Python 3",
   "language": "python",
   "name": "python3"
  }
 },
 "nbformat": 4,
 "nbformat_minor": 2
}
